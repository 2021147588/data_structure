{
 "cells": [
  {
   "cell_type": "markdown",
   "metadata": {},
   "source": [
    "# NAME: 정다연\n",
    "# YID: 2021147588\n",
    "***\n",
    "# <font color='royalblue'>CSI 2103 - Data Structures: HW Assignment 1</font>\n",
    "## Due 3/22/2022 at 11:59 PM\n",
    "### Instructor: Seong Jae Hwang (seongjae@yonsei.ac.kr)"
   ]
  },
  {
   "cell_type": "markdown",
   "metadata": {
    "tags": []
   },
   "source": [
    "***\n",
    "## <font color='royalblue'>1. Instruction</font>\n",
    "\n",
    "### **Aims**: \n",
    "In this assignment, we focus on (1) setting up Python and Jupyter Notebook (or Jupyter Lab), and (2) perform several exercises relevant to the algorithm analysis lectures. This will get you ready to work on subsequent assignments which will also be given in Jupyter Notebook.\n",
    "\n",
    "### **Outcomes**:\n",
    "You will be able to perform basic Python operations using commonly used libraries and familiarize yourself with Jupyter Notebook/Lab.\n",
    "\n",
    "### **Provided Files**:\n",
    "1. `assignment1.ipynb`: The Jupyter Notebook file of this assignment which you will eventually load on your Jupyter Notebook/Lab and complete.\n",
    "2. `assignment1.html`: The html format of `assignment1.ipynb`. This is basically the output from simply running the entire `assignment1.ipynb` in html format so you can still read the first part of this assignment which guides you to install Jupyter Notebook/Lab.\n",
    "\n",
    "Basically, if you don't have Python and Jupyter Notebook/Lab on your machine, read `assignment1.html` first to set it up. Then, start using `assignment1.ipynb` to finish the rest of the assignment.\n",
    "\n",
    "### **Note**:\n",
    "- The next section just suggests a few ways of getting things started. If you already know how to install Python and use Jupyter Notebook/Lab, feel free to do it your way! You may have to install some basic packages on your own, but these will be quite basic packages. You do NOT need to exactly follow the [next section](#2.-Installing-Python3-and-Jupyter-Notebook/Lab).\n",
    "\n",
    "- Practice on your own: This course is not about learning Python. Thus, this assignment will only cover the very basics about Python, and I will not be explicitly covering more on Python. I believe this is reasonable for the following reasons:\n",
    "    1. Since there are *many* online tutorials and guides on Python, it is highly recommended to spend some extra time familiarizing yourself. A few suggestions are provided below ([Useful Resources and Links](#Useful-Resources-and-Links)) and are also posted on our learnus wiki.\n",
    "    2. This relatively short assignment has a long due date (~12 days) so you can spend some extra time if needed.\n",
    "    3. Although the subsequent HW assignments will not be requiring very advanced Python knowledge, you will be expected to be able to run the provided notebook file. Thus, it is important for you to make sure you become comfortable working on `.ipynb` in Jupyter Notebook/Lab (or any IDE you prefer).\n",
    "    \n",
    "- **Ultimately, just follow this Notebook file one cell at a time, until the end:** As you proceed, some cells will simply ask you to run the cell (no coding needed). **On the other hand, there are cells that ask you to implement, and these are the ones that will be graded.** This is how all our Jupyter Notebook assignments will be.\n",
    "\n",
    "\n",
    "### **Points**: 50 pts total\n",
    "\n",
    "First, at the very top cell of this file, don't forget to replace `YOUR_NAME` with your name and `YOUR_YID` with your YID.\n",
    "1. **10 pts**: [Problem 1: Implement Your Own Quadratic and Linear Time Functions](#Problem-1:-Implement-Your-Own-Quadratic-and-Linear-Time-Functions)\n",
    "2. **10 pts**: [Problem 2: Implement Your Own Logarithmic Time Function](#Problem-2:-Implement-Your-Own-Logarithmic-Time-Function)\n",
    "3. **10 pts**: [Problem 3: Implement Your Own Cubic Time Function](#Problem-3:-Implement-Your-Own-Cubic-Time-Function)\n",
    "4. **20 pts**: Successfully run `assignment1.ipynb` and submit both `assignment1.ipynb` and `assignment1.html` (`File->Save and Export Notebook As -> HTML`). If you could not finish the problems above, just run the cells that you could. I just want to see if you were able to successfully open and work on `assignment1.ipynb` since our future assignments will also be in `.ipynb`.\n",
    "\n",
    "\n",
    "### **What to Submit**:\n",
    "1. `assignment1.ipynb`: Your `assignment1.ipynb` which has (1) your name and YID at the top, (2) your solutions to the problems, and (3) the output of runnning your file. Once you run the entire file, which shows all your outputs as well, save and submit. This saves the output as well, and once I open your `assignment1.ipynb`, I will see those exact same outputs that you had when you saved your `assignment1.ipynb`.\n",
    "2. `assignment1.html`: `File->Save and Export Notebook As -> HTML` to generate your own `assignment1.html` of the above `assignment1.ipynb` (which you submit with solutions and outputs). This serves as a \"hard copy\" to show your output as a html. Again, if you could not run the entire `assignment1.ipynb` due to incomplete codes and problems, just run all the cells that you can and submit. For example, if you only complete Problem 2 and 3, just run the cells in Problem 2 and 3 and submit. These problems can be run separately."
   ]
  },
  {
   "cell_type": "markdown",
   "metadata": {
    "tags": []
   },
   "source": [
    "***\n",
    "## <font color='royalblue'>2. Installing Python3 and Jupyter Notebook/Lab</font>\n",
    "Our goal is to eventually run this `assignment1.ipynb` on your own Jupyter Notebook or Jupyter Lab. Focus on this section if you need to install Python and/or Jupyter Notebook/Lab based on `assignment1.html`. If you have already done this, skip this section.\n",
    "\n",
    "### What you will install:\n",
    "- Python3 (any stable latest version is fine)\n",
    "- Jupyter Notebook (open-source IDE for running .ipynb files) or\n",
    "- Jupyter Lab (More \"IDE-like\" version of Jupyter Notebook. I recommend this one.)\n",
    "\n",
    "### To enter the command lines (if needed)\n",
    "For macOS and Linux: use Terminal\n",
    "\n",
    "For Windows: use Command Prompt\n",
    "\n",
    "### 1. Traditional Way (pip):    \n",
    "- Pro: command-line based, light-weight, supports virtual environment\n",
    "- Cons: may need to install additional packages, needs terminal or command prompt\n",
    "\n",
    "1. Install Python3 manually from the official website: https://www.python.org/\n",
    "    - When downloading, any latest stable version (3.x) for your OS should be fine.\n",
    "    - Windows: during installation steps, look for \"Modify Setup\" and check \"pip\" (python package management system)\n",
    "    - Check your python3 installation: `python3 --version`\n",
    "    - Check your pip installation: `pip --version`\n",
    "2. Install Jupyter Notebook or Jupyter Lab (recommended) from the official website: https://jupyter.org/install\n",
    "    - Install Jupyter Lab: `pip install jupyterlab`\n",
    "    - Install Jupyter Notebook: `pip install notebook`\n",
    "3. Run\n",
    "    - Run Jupyter Lab: `jupyter lab` (or `jupyter-lab`)\n",
    "    - Run Jupyter Notebook: `jupyter notebook` (or `jupyter-notebook`)\n",
    "\n",
    "### 2. Another Way (conda):\n",
    "- Pro: GUI-based, easy to install on Windows, comes with some packages, supports virtual environment (starts in base)\n",
    "- Cons: GUI-based, heavy, difficult to install some packages (won't be the case for us)\n",
    "\n",
    "1. Install conda (python package manager): https://www.anaconda.com/products/individual\n",
    "    - Official installation guide: https://docs.anaconda.com/anaconda/install/\n",
    "    - conda is always `Python 3`\n",
    "2. Open Anaconda-Navigator\n",
    "3. In \"Home\", install JupyterLab or Notebook if needed\n",
    "4. Launch JupyterLab or Notebook\n",
    "\n",
    "### 3. Other than Jupyter Notebook/Lab\n",
    "There exist IDEs other than Jupyter Notebook/Lab that support .ipynb files such as PyCharm and Google Colab. Again, it's up to you how you run .ipynb files, so you are free to use whatever you want.\n",
    "\n",
    "### Useful Resources and Links:\n",
    "These can also be found on our course learnus under \"Useful Resources and Links\"\n",
    "\n",
    "<p>\n",
    "    Here, you will find links to various useful resources.</p>\n",
    "    <h4><span>Python and Setup (Official Links)</span>\n",
    "    </h4><p><span>Note: official links are not always the easiest to follow</span></p><p></p>\n",
    "    <ul>\n",
    "        <li><a href=\"https://www.python.org/\">Python</a>: Official website for installation and etc.</li>\n",
    "        <li><a href=\"https://docs.python.org/3/index.html\">Python Doc</a>: Official documentation for Python. Useful for Python related syntax help.</li>\n",
    "        <li><a href=\"https://www.anaconda.com/products/individual\">Anaconda</a>: Official website for installation</li>\n",
    "        <li><a href=\"https://jupyter.org/\">Jupyter</a>: Official website</li>\n",
    "        <li><a href=\"https://jupyter.org/install\">Jupyter Installation</a>: Official installation guide</li>\n",
    "        <li><a href=\"https://jupyterlab.readthedocs.io/en/stable/\">Jupyter Lab Documentation</a>: Official Jupyter Lab guide</li>\n",
    "        <li><a href=\"https://docs.anaconda.com/anaconda/navigator/index.html\">Anaconda Navigator User Guide</a>: Official guide for Anaconda Navigator</li>\n",
    "        <li><a href=\"https://docs.anaconda.com/anaconda/navigator/tutorials/manage-packages/\">Anaconda Navigator Package Management</a>: How to manage packages in Anaconda Navigator</li>\n",
    "        <li><a href=\"https://docs.anaconda.com/anaconda/navigator/tutorials/manage-packages/\">Anaconda Package Management</a>: How to manage packages in Anaconda (command-line)</li>\n",
    "    </ul>\n",
    "    <h4>Other Online Resources and Tutorials</h4>\n",
    "    <p>Note: some of these are by third-party public individuals</p><p></p>\n",
    "    <ul>\n",
    "        <li><a href=\"https://medium.com/@GalarnykMichael/install-python-anaconda-on-windows-2020-f8e188f9a63d\">Python (Anaconda) on Windows</a>: install Python through Conda on Windows</li>\n",
    "        <li><a href=\"https://www.geeksforgeeks.org/how-to-install-jupyter-notebook-in-windows/\">Jupyter Notebook Windows Installation</a>: install Jupyter Notebook on Windows</li>\n",
    "        <li><a href=\"http://justinbois.github.io/bootcamp/2020_fsri/lessons/l01_welcome.html\">Jupyter Notebook/Lab Tutorial</a>: useful tutorial for Jupyter Notebook/Lab</li>\n",
    "        <li><a href=\"https://cs231n.github.io/python-numpy-tutorial/\">Stanford Python Numpy Tutorial</a>: useful tutorial for Python Numpy library (which we use a lot)</li>\n",
    "        <li><a href=\"https://raw.githubusercontent.com/cs231n/cs231n.github.io/master/jupyter-notebook-tutorial.ipynb\">Stanford Jupyter Notebook Tutorial File</a> (<b>Recommend</b>): an extensive Jupyter Notebook tutorial .ipynb file. Download by <b>right-click and save link as</b> in html or learnus wiki, and open in Notebook/Lab</li>\n",
    "        <li><a href=\"https://www.w3schools.com/python/default.asp\">w3school Python Tutorial</a>: thorough Python tutorial where you can try directly in your browser</li>\n",
    "    </ul><p></p><p></p>"
   ]
  },
  {
   "cell_type": "markdown",
   "metadata": {},
   "source": [
    "***\n",
    "## <font color='royalblue'>3. Getting Started: Running Jupyter</font>\n",
    "\n",
    "By now, you should be able to run Jupyter Notebook/Lab and load `assignment1.ipynb`. Load in Jupyter Lab/Notebook.\n",
    "\n",
    "The best thing about Jupyter Notebook/Lab is how we run and analyze our code, one `cell` at a time. Each `.ipynb` file is a series of cells (i.e., a \"block\" of code) which can be rendered into the text you are reading now, or be treated as Python code.\n",
    "\n",
    "1. Select the cell by clicking anywhere in the cell. If the cell does not have Python codes (i.e., `code` cell), you are looking at a `Markdown` cell (like this one you are reading) which you need to double click the cell.\n",
    "2. Run the cell \n",
    "    - `Run` Tab at the top menu ->`Run Selected Cell`\n",
    "    - $\\blacktriangleright$ button at the top of this notebook tab\n",
    "    - Short-cut: `shift+enter`\n",
    "    \n",
    "This cell is a `Markdown` cell for documentation: indicated with `Markdown` in the drop-down menu at the top of this tab. This also needs to be run to render the text.\n",
    "\n",
    "The cell below is a `Code` cell for running code: indicated with `Code`."
   ]
  },
  {
   "cell_type": "code",
   "execution_count": 1,
   "metadata": {
    "tags": []
   },
   "outputs": [
    {
     "name": "stdout",
     "output_type": "stream",
     "text": [
      "Hello, world.\n"
     ]
    }
   ],
   "source": [
    "# Sample code (try it with your code)\n",
    "print('Hello, world.')\n",
    "2 + 3\n",
    "result = 3 + 5"
   ]
  },
  {
   "cell_type": "markdown",
   "metadata": {},
   "source": [
    "Important: Notebook keeps track of all the variables run thus far as global variables. This is very useful since we can essentially treat the entire notebook as a series of code which we are familiar with, except we can run groups of lines and see the corresponding results.\n",
    "\n",
    "Below, if we have assigned a variable, it can be used again:"
   ]
  },
  {
   "cell_type": "code",
   "execution_count": 2,
   "metadata": {},
   "outputs": [
    {
     "name": "stdout",
     "output_type": "stream",
     "text": [
      "8\n"
     ]
    }
   ],
   "source": [
    "print(result)"
   ]
  },
  {
   "cell_type": "markdown",
   "metadata": {},
   "source": [
    "If you want to start fresh from scatch (delete all variables, etc.), click $\\blacktriangleright\\blacktriangleright$ for `restart the kernel, then re-run thew whole notebook`"
   ]
  },
  {
   "cell_type": "code",
   "execution_count": 3,
   "metadata": {},
   "outputs": [
    {
     "data": {
      "text/plain": [
       "4"
      ]
     },
     "execution_count": 3,
     "metadata": {},
     "output_type": "execute_result"
    }
   ],
   "source": [
    "# Only the last evaluated line will be automatically printed\n",
    "\n",
    "# will not appear\n",
    "1+1\n",
    "\n",
    "# will appear\n",
    "2+2"
   ]
  },
  {
   "cell_type": "markdown",
   "metadata": {},
   "source": [
    "### See all variables and functions\n",
    "- Enable debugger (top-right corner of this tab, left of `Python 3`. You can also do `Run`->`Restart kernel and debug`\n",
    "- Open the debugger tab in the right sidebar (`View` -> `Show Right Sidebar`)\n",
    "\n",
    "### Short-cuts\n",
    "Here are a few commonly used short-cuts. (`ESC - m` means press `ESC` and press `m` , no need to hold `ESC`):\n",
    "\n",
    "- `Esc - m`: switch cell to Markdown cell\n",
    "- `Esc - y`: switch cell to code cell\n",
    "- `Esc - a`: insert cell above\n",
    "- `Esc - b`: insert cell below\n",
    "- `Esc - d - d`: delete cell\n",
    "- `Shift + Enter`: run the cell and move to the next cell\n",
    "- `arrow keys`: move between cells\n",
    "- `Command/Control - s`: save\n",
    "\n",
    "### To run multiple cells\n",
    "See the \"Run\" tab at the top\n",
    "- `Run All Above Selected Cell`: If you want to run all the cells just before a specific cell you want to start working on.\n",
    "- `Run Selected Cell and All Below`: If you want to run all the cells from the one you are working on.\n",
    "\n",
    "### Note\n",
    "- Once you start Jupyter Notebook/Lab from the command prompt, terminal, or Anaconda-Navigator, you must *not* close them."
   ]
  },
  {
   "cell_type": "markdown",
   "metadata": {},
   "source": [
    "***\n",
    "## <font color='royalblue'>4. Python Basics</font>\n",
    "\n",
    "In this **optional** section (nothing to be graded in this tutorial part), I will cover some relevant topics from this tutorial: [Stanford Jupyter Notebook Tutorial File (Recommend)](https://raw.githubusercontent.com/cs231n/cs231n.github.io/master/jupyter-notebook-tutorial.ipynb) which you need to download by right-click and save link as in html or learnus wiki, and open in Notebook/Lab. These may be useful later, but feel free to skip this part if you want."
   ]
  },
  {
   "cell_type": "markdown",
   "metadata": {
    "colab_type": "text",
    "id": "UONpMhF4L9f_",
    "tags": []
   },
   "source": [
    "### Loops"
   ]
  },
  {
   "cell_type": "markdown",
   "metadata": {
    "colab_type": "text",
    "id": "_DYz1j6QL9f_",
    "tags": []
   },
   "source": [
    "You can loop over the elements of a list like this:"
   ]
  },
  {
   "cell_type": "code",
   "execution_count": 4,
   "metadata": {
    "colab": {
     "base_uri": "https://localhost:8080/",
     "height": 69
    },
    "colab_type": "code",
    "id": "4cCOysfWL9gA",
    "outputId": "560e46c7-279c-409a-838c-64bea8d321c4",
    "tags": []
   },
   "outputs": [
    {
     "name": "stdout",
     "output_type": "stream",
     "text": [
      "cat\n",
      "dog\n",
      "monkey\n"
     ]
    }
   ],
   "source": [
    "animals = ['cat', 'dog', 'monkey']\n",
    "for animal in animals:\n",
    "    print(animal)"
   ]
  },
  {
   "cell_type": "markdown",
   "metadata": {
    "colab_type": "text",
    "id": "KxIaQs7pL9gE"
   },
   "source": [
    "If you want access to the index of each element within the body of a loop, use the built-in `enumerate` function:"
   ]
  },
  {
   "cell_type": "code",
   "execution_count": 5,
   "metadata": {
    "colab": {
     "base_uri": "https://localhost:8080/",
     "height": 69
    },
    "colab_type": "code",
    "id": "JjGnDluWL9gF",
    "outputId": "81421905-17ea-4c5a-bcc0-176de19fd9bd"
   },
   "outputs": [
    {
     "name": "stdout",
     "output_type": "stream",
     "text": [
      "#1: cat\n",
      "#2: dog\n",
      "#3: monkey\n"
     ]
    }
   ],
   "source": [
    "animals = ['cat', 'dog', 'monkey']\n",
    "for idx, animal in enumerate(animals):\n",
    "    print('#{}: {}'.format(idx + 1, animal))"
   ]
  },
  {
   "cell_type": "markdown",
   "metadata": {
    "colab_type": "text",
    "id": "AXA4jrEOL9hM"
   },
   "source": [
    "### Functions"
   ]
  },
  {
   "cell_type": "markdown",
   "metadata": {
    "colab_type": "text",
    "id": "WaRms-QfL9hN"
   },
   "source": [
    "Python functions are defined using the `def` keyword. For example:"
   ]
  },
  {
   "cell_type": "code",
   "execution_count": 6,
   "metadata": {
    "colab": {
     "base_uri": "https://localhost:8080/",
     "height": 69
    },
    "colab_type": "code",
    "id": "kiMDUr58L9hN",
    "outputId": "9f53bf9a-7b2a-4c51-9def-398e4677cd6c"
   },
   "outputs": [
    {
     "name": "stdout",
     "output_type": "stream",
     "text": [
      "negative\n",
      "zero\n",
      "positive\n"
     ]
    }
   ],
   "source": [
    "def sign(x):\n",
    "    if x > 0:\n",
    "        return 'positive'\n",
    "    elif x < 0:\n",
    "        return 'negative'\n",
    "    else:\n",
    "        return 'zero'\n",
    "\n",
    "for x in [-1, 0, 1]:\n",
    "    print(sign(x))"
   ]
  },
  {
   "cell_type": "markdown",
   "metadata": {
    "colab_type": "text",
    "id": "U-QJFt8TL9hR"
   },
   "source": [
    "We will often define functions to take optional keyword arguments, like this:"
   ]
  },
  {
   "cell_type": "code",
   "execution_count": 7,
   "metadata": {
    "colab": {
     "base_uri": "https://localhost:8080/",
     "height": 52
    },
    "colab_type": "code",
    "id": "PfsZ3DazL9hR",
    "outputId": "6e6af832-67d8-4d8c-949b-335927684ae3"
   },
   "outputs": [
    {
     "name": "stdout",
     "output_type": "stream",
     "text": [
      "Hello, Bob!\n",
      "HELLO, FRED\n"
     ]
    }
   ],
   "source": [
    "def hello(name, loud=False):\n",
    "    if loud:\n",
    "        print('HELLO, {}'.format(name.upper()))\n",
    "    else:\n",
    "        print('Hello, {}!'.format(name))\n",
    "\n",
    "hello('Bob')\n",
    "hello('Fred', loud=True)"
   ]
  },
  {
   "cell_type": "markdown",
   "metadata": {
    "colab_type": "text",
    "id": "ObA9PRtQL9hT",
    "tags": []
   },
   "source": [
    "### Classes"
   ]
  },
  {
   "cell_type": "markdown",
   "metadata": {
    "colab_type": "text",
    "id": "hAzL_lTkL9hU"
   },
   "source": [
    "The syntax for defining classes in Python is straightforward:"
   ]
  },
  {
   "cell_type": "code",
   "execution_count": 8,
   "metadata": {
    "colab": {
     "base_uri": "https://localhost:8080/",
     "height": 52
    },
    "colab_type": "code",
    "id": "RWdbaGigL9hU",
    "outputId": "4f6615c5-75a7-4ce4-8ea1-1e7f5e4e9fc3"
   },
   "outputs": [
    {
     "name": "stdout",
     "output_type": "stream",
     "text": [
      "Hello, Fred!\n",
      "HELLO, FRED\n"
     ]
    }
   ],
   "source": [
    "class Greeter:\n",
    "\n",
    "    # Constructor\n",
    "    def __init__(self, name):\n",
    "        self.name = name  # Create an instance variable\n",
    "\n",
    "    # Instance method\n",
    "    def greet(self, loud=False):\n",
    "        if loud:\n",
    "          print('HELLO, {}'.format(self.name.upper()))\n",
    "        else:\n",
    "          print('Hello, {}!'.format(self.name))\n",
    "\n",
    "g = Greeter('Fred')  # Construct an instance of the Greeter class\n",
    "g.greet()            # Call an instance method; prints \"Hello, Fred\"\n",
    "g.greet(loud=True)   # Call an instance method; prints \"HELLO, FRED!\""
   ]
  },
  {
   "cell_type": "markdown",
   "metadata": {},
   "source": [
    "### Numpy\n",
    "\n",
    "This may be another way of dealing with arrays in Python, mostly for more mathematical tasks. You will see this in the next HW, so you do not have to consider this for HW1. You can come back to this later.\n",
    "\n",
    "Numpy is the core library for scientific computing in Python. It provides a high-performance multidimensional array object, and tools for working with these arrays. If you are already familiar with MATLAB, you might find this [tutorial](http://wiki.scipy.org/NumPy_for_Matlab_Users) useful to get started with Numpy.\n",
    "\n",
    "To use Numpy, we first need to import the `numpy` package:"
   ]
  },
  {
   "cell_type": "code",
   "execution_count": 9,
   "metadata": {},
   "outputs": [],
   "source": [
    "import numpy as np"
   ]
  },
  {
   "cell_type": "markdown",
   "metadata": {},
   "source": [
    "#### Numpy Arrays\n",
    "A numpy array is a grid of values, all of the same type, and is indexed by a tuple of nonnegative integers. The number of dimensions is the rank of the array; the shape of an array is a tuple of integers giving the size of the array along each dimension.\n",
    "\n",
    "We can initialize numpy arrays from nested Python lists, and access elements using square brackets:"
   ]
  },
  {
   "cell_type": "code",
   "execution_count": 10,
   "metadata": {},
   "outputs": [
    {
     "name": "stdout",
     "output_type": "stream",
     "text": [
      "<class 'numpy.ndarray'> (3,) 1 2 3\n",
      "[5 2 3]\n"
     ]
    }
   ],
   "source": [
    "a = np.array([1, 2, 3])  # Create a rank 1 array\n",
    "print(type(a), a.shape, a[0], a[1], a[2])\n",
    "a[0] = 5                 # Change an element of the array\n",
    "print(a)   "
   ]
  },
  {
   "cell_type": "code",
   "execution_count": 11,
   "metadata": {},
   "outputs": [
    {
     "name": "stdout",
     "output_type": "stream",
     "text": [
      "[[1 2 3]\n",
      " [4 5 6]]\n"
     ]
    }
   ],
   "source": [
    "b = np.array([[1,2,3],[4,5,6]])   # Create a rank 2 array\n",
    "print(b)"
   ]
  },
  {
   "cell_type": "markdown",
   "metadata": {},
   "source": [
    "***\n",
    "## <font color='royalblue'>5. Exercise: Algorithm Complexity via Experimental Analysis</font>\n",
    "\n",
    "Let's test the time complexity of several algorithms, all which aim to achieve the same task: prefix average (we covered this during lecture).\n",
    "\n",
    "Namely, given a list of numbers, return a list $A$ such that for all $j$, $A[j]$ is the average of $S[0],...,S[j]$. In other words, $A[j] = \\frac{\\sum{i=0}^j S[i]}{j+1}$.\n",
    "\n",
    "Below, we have defined three implementations with different running time complexities."
   ]
  },
  {
   "cell_type": "code",
   "execution_count": 60,
   "metadata": {},
   "outputs": [],
   "source": [
    "# Quadratic Time Algorithm 1\n",
    "def prefix_average_quadratic1(S):\n",
    "    n = len(S)\n",
    "    A = [0] * n\n",
    "    for j in range(n):\n",
    "        total = 0\n",
    "        for i in range(j+1):\n",
    "            total += S[i]\n",
    "        A[j] = total / (j+1)\n",
    "    return A\n",
    "\n",
    "# Quadratic Time Algorithm 2\n",
    "def prefix_average_quadratic2(S):\n",
    "    n = len(S)\n",
    "    A = [0] * n\n",
    "    for j in range(n):\n",
    "        A[j] = sum(S[0:j+1]) / (j+1)\n",
    "    return A\n",
    "\n",
    "# Linear Time Algorithm \n",
    "def prefix_average_linear(S):\n",
    "    n = len(S)\n",
    "    A = [0] * n\n",
    "    total = 0\n",
    "    for j in range(n):\n",
    "        total += S[j]\n",
    "        A[j] = total / (j+1)\n",
    "    return A"
   ]
  },
  {
   "cell_type": "markdown",
   "metadata": {},
   "source": [
    "We analytically know the asymptotic running times of these algorithms. We are here to see if these running time complexities actually make a difference in practice. Try small to large `n = [10, 20, 40, 80, 160, 320, 640, 1280, 2560, 5120, 10480]` ans observe how the running times grow."
   ]
  },
  {
   "cell_type": "code",
   "execution_count": 61,
   "metadata": {},
   "outputs": [
    {
     "name": "stdout",
     "output_type": "stream",
     "text": [
      "n:     10 | quad1:  0.000000 | quad2:  0.000000 | linear:  0.000000\n",
      "n:     20 | quad1:  0.000000 | quad2:  0.000000 | linear:  0.000000\n",
      "n:     40 | quad1:  0.000000 | quad2:  0.000000 | linear:  0.000000\n",
      "n:     80 | quad1:  0.000000 | quad2:  0.000000 | linear:  0.000000\n",
      "n:    160 | quad1:  0.000000 | quad2:  0.000000 | linear:  0.000000\n",
      "n:    320 | quad1:  0.008756 | quad2:  0.000000 | linear:  0.000000\n",
      "n:    640 | quad1:  0.024767 | quad2:  0.008309 | linear:  0.000000\n",
      "n:   1280 | quad1:  0.104462 | quad2:  0.015547 | linear:  0.000000\n",
      "n:   2560 | quad1:  0.444981 | quad2:  0.064073 | linear:  0.000000\n",
      "n:   5120 | quad1:  1.718334 | quad2:  0.241952 | linear:  0.000000\n",
      "n:  10480 | quad1:  7.048968 | quad2:  1.099950 | linear:  0.000579\n"
     ]
    }
   ],
   "source": [
    "from time import time\n",
    "\n",
    "for n in [10, 20, 40, 80, 160, 320, 640, 1280, 2560, 5120, 10480]:\n",
    "    # for the sake of analysis, intentionally create a list of distinct elements\n",
    "    # this ensures the worst-case where the entire list is considered\n",
    "    input_list = list(range(n))\n",
    "\n",
    "    start_time = time()\n",
    "    prefix_average_quadratic1(input_list)\n",
    "    end_time = time()\n",
    "    quadratic1_running_time = end_time - start_time\n",
    "    \n",
    "    start_time = time()\n",
    "    prefix_average_quadratic2(input_list)\n",
    "    end_time = time()\n",
    "    quadratic2_running_time = end_time - start_time\n",
    "\n",
    "    start_time = time()\n",
    "    prefix_average_linear(input_list)\n",
    "    end_time = time()\n",
    "    linear_running_time = end_time - start_time\n",
    "    \n",
    "    print(\"n: %s | \" % f\"{n:6d}\", end=\"\")\n",
    "    print(\"quad1: %s | \" % f\"{quadratic1_running_time:9.6f}\", end=\"\")\n",
    "    print(\"quad2: %s | \" % f\"{quadratic2_running_time:9.6f}\", end=\"\")\n",
    "    print(\"linear: %s\" % f\"{linear_running_time:9.6f}\")\n",
    "    "
   ]
  },
  {
   "cell_type": "markdown",
   "metadata": {},
   "source": [
    "As $n$ increases, we clearly start seeing that the running time differences.\n",
    "\n",
    "Let's take a look at another example: element uniqueness which returns true if all elements are distinct, and returns false otherwise (there is at least one repeating element). As before, we provide two implementations:"
   ]
  },
  {
   "cell_type": "code",
   "execution_count": 14,
   "metadata": {},
   "outputs": [],
   "source": [
    "# O(n^2) Time Algorithm\n",
    "def unique_quadratic(S):\n",
    "    for j in range(len(S)):\n",
    "        for k in range(j+1, len(S)):\n",
    "            if S[j] == S[k]:\n",
    "                return False\n",
    "    return True\n",
    "\n",
    "# O(nlogn) Time Algorithm\n",
    "def unique_nlogn(S):\n",
    "    temp = sorted(S)\n",
    "    for j in range(1, len(temp)):\n",
    "        if temp[j-1] == temp[j]:\n",
    "            return False\n",
    "    return True"
   ]
  },
  {
   "cell_type": "code",
   "execution_count": 15,
   "metadata": {},
   "outputs": [
    {
     "name": "stdout",
     "output_type": "stream",
     "text": [
      "n:    10 | quad:  0.000004768 | nlogn:  0.000003099\n",
      "n:    20 | quad:  0.000015974 | nlogn:  0.000003099\n",
      "n:    40 | quad:  0.000051975 | nlogn:  0.000005722\n",
      "n:    80 | quad:  0.000194073 | nlogn:  0.000011921\n",
      "n:   160 | quad:  0.000729799 | nlogn:  0.000023127\n",
      "n:   320 | quad:  0.003815889 | nlogn:  0.000058889\n",
      "n:   640 | quad:  0.013864994 | nlogn:  0.000111818\n",
      "n:  1280 | quad:  0.052742004 | nlogn:  0.000206232\n",
      "n:  2560 | quad:  0.211997271 | nlogn:  0.000423193\n",
      "n:  5120 | quad:  0.833408833 | nlogn:  0.000874996\n",
      "n: 10480 | quad:  3.489531040 | nlogn:  0.001971006\n"
     ]
    }
   ],
   "source": [
    "import random\n",
    "for n in [10, 20, 40, 80, 160, 320, 640, 1280, 2560, 5120, 10480]:\n",
    "    # for the sake of analysis, intentionally create a list of distinct elements\n",
    "    # this ensures the worst-case where the entire list is considered\n",
    "    input_list = list(range(n))\n",
    "    random.shuffle(input_list)\n",
    "\n",
    "    start_time = time()\n",
    "    unique_quadratic(input_list)\n",
    "    end_time = time()\n",
    "    quadratic_running_time = end_time - start_time\n",
    "\n",
    "    start_time = time()\n",
    "    unique_nlogn(input_list)\n",
    "    end_time = time()\n",
    "    nlogn_running_time = end_time - start_time\n",
    "    print(\"n: %s | \" % f\"{n:5d}\", end=\"\")\n",
    "    print(\"quad: %s | \" % f\"{quadratic_running_time:12.9f}\", end=\"\")\n",
    "    print(\"nlogn: %s\" % f\"{nlogn_running_time:12.9f}\")\n",
    "    "
   ]
  },
  {
   "cell_type": "markdown",
   "metadata": {},
   "source": [
    "We are seeing a pattern.\n",
    "\n",
    "Then, roughly speaking, how much time would $n=20960$ take?\n",
    "- For quadratic: (quadratic_running_time for n=10480) $\\times$ $\\frac{20960^2}{10480^2}$\n",
    "- For nlogn: (nlogn_running_time for n=10480) $\\times$ $\\frac{20960\\log_2 (20960)}{10480\\log_2 (10480)}$\n",
    "\n",
    "Thus, when $n$ doubles from 10480 to 20960, our quadratic running time algorithm takes $\\frac{20960^2}{10980^2} = 4$ times longer, while our nlogn running time algorithm takes $\\frac{20960\\log_2 (20960)}{10480\\log_2 (10480)}\\approx 2.15$ times longer (analytically speaking)."
   ]
  },
  {
   "cell_type": "code",
   "execution_count": 16,
   "metadata": {},
   "outputs": [
    {
     "name": "stdout",
     "output_type": "stream",
     "text": [
      "n: 20960 | quad: 14.263836384 | nlogn:  0.004119158\n"
     ]
    }
   ],
   "source": [
    "n = 20960\n",
    "input_list = list(range(n))\n",
    "random.shuffle(input_list)\n",
    "\n",
    "start_time = time()\n",
    "unique_quadratic(input_list)\n",
    "end_time = time()\n",
    "quadratic_running_time = end_time - start_time\n",
    "\n",
    "start_time = time()\n",
    "unique_nlogn(input_list)\n",
    "end_time = time()\n",
    "nlogn_running_time = end_time - start_time\n",
    "\n",
    "print(\"n: %s | \" % f\"{n:5d}\", end=\"\")\n",
    "print(\"quad: %s | \" % f\"{quadratic_running_time:12.9f}\", end=\"\")\n",
    "print(\"nlogn: %s\" % f\"{nlogn_running_time:12.9f}\")"
   ]
  },
  {
   "cell_type": "markdown",
   "metadata": {},
   "source": [
    "***\n",
    "## <font color='red'>***Problem 1: Implement Your Own Quadratic and Linear Time Functions***</font>\n",
    "This is your first real coding problem. Just like the previous examples, **implement any function in two different ways: one in quadratic time, the other in linear time.** Note that these functions must achieve the **same task**, just with different running times. (ex: `prefix_average_quadratic vs. prefix_average_linear`). If you are stuck, feel free to modify our previous examples.\n"
   ]
  },
  {
   "cell_type": "code",
   "execution_count": 62,
   "metadata": {},
   "outputs": [],
   "source": [
    "# PROBLEM 1\n",
    "#------------- IMPLEMENT ON YOUR OWN -------------\n",
    "\n",
    "# Quadratic Time Algorithm\n",
    "def your_quad_func(S):\n",
    "    \"\"\" BRIEFLY DESCRIBE HERE \"\"\"\n",
    "    #Sum all numbers above n*n\n",
    "    #------------- YOUR CODE GOES HERE -------------  \n",
    "    for j in range(len(S)):\n",
    "        for k in range(len(S)):\n",
    "            total = j + k\n",
    "    return total\n",
    "\n",
    "    #-----------------------------------------------\n",
    "\n",
    "# Linear Time Algorithm\n",
    "def your_linear_func(S):\n",
    "    \"\"\" BRIEFLY DESCRIBE HERE \"\"\"\n",
    "    #number from 0 to len(S)\n",
    "    #------------- YOUR CODE GOES HERE -------------\n",
    "    n = len(S)\n",
    "    for j in range(n):\n",
    "        num = j\n",
    "    return num \n",
    "    #-----------------------------------------------"
   ]
  },
  {
   "cell_type": "markdown",
   "metadata": {},
   "source": [
    "Now, run the cell provided below which uses `your_quad_func` and `your_linear_func`. You may slightly modify if needed (different `n`, improved output format, etc.). If your functions take way too long, you can remove some large `n` values."
   ]
  },
  {
   "cell_type": "code",
   "execution_count": 63,
   "metadata": {},
   "outputs": [
    {
     "name": "stdout",
     "output_type": "stream",
     "text": [
      "n:    10 | quad:  0.000000 | linear:  0.000000\n",
      "n:    20 | quad:  0.000000 | linear:  0.000000\n",
      "n:    40 | quad:  0.000000 | linear:  0.000000\n",
      "n:    80 | quad:  0.000000 | linear:  0.000000\n",
      "n:   160 | quad:  0.000000 | linear:  0.000000\n",
      "n:   320 | quad:  0.008681 | linear:  0.000000\n",
      "n:   640 | quad:  0.042091 | linear:  0.000000\n",
      "n:  1280 | quad:  0.152230 | linear:  0.000000\n",
      "n:  2560 | quad:  0.640288 | linear:  0.000000\n"
     ]
    }
   ],
   "source": [
    "from time import time\n",
    "for n in [10, 20, 40, 80, 160, 320, 640, 1280, 2560]:\n",
    "    # for the sake of analysis, intentionally create a list of distinct elements\n",
    "    # this ensures the worst-case where the entire list is considered\n",
    "    input_list = list(range(n))\n",
    "\n",
    "    start_time = time()\n",
    "    your_quad_func(input_list)\n",
    "    end_time = time()\n",
    "    quadratic_running_time = end_time - start_time\n",
    "\n",
    "    start_time = time()\n",
    "    your_linear_func(input_list)\n",
    "    end_time = time()\n",
    "    linear_running_time = end_time - start_time\n",
    "    print(\"n: %s | \" % f\"{n:5d}\", end=\"\")\n",
    "    print(\"quad: %s | \" % f\"{quadratic_running_time:9.6f}\", end=\"\")\n",
    "    print(\"linear: %s\" % f\"{linear_running_time:9.6f}\")"
   ]
  },
  {
   "cell_type": "markdown",
   "metadata": {},
   "source": [
    "I will be checking your implementation of the functions and the outputs to see if the running times actually reflect the quadratic and linear time complexities."
   ]
  },
  {
   "cell_type": "markdown",
   "metadata": {},
   "source": [
    "***\n",
    "## <font color='red'>***Problem 2: Implement Your Own Logarithmic Time Function***</font>\n",
    "Let us write a very simple function that simulates a logarithmic (base 2) time function. Below, the function `your_logn_func` takes an integer `n`. It has a while loop that iterates while `n > 1`. We simulate that each iteration of this while loop takes exactly 0.1 sec using `time.speep(0.1)`. Line 10 assigns a new value to `n`. Thus, depending on how `n` changes, the running time of `your_logn_func` may grow differently. For instance, if line 10 is `n = n - 1`, then this function's time linearly grows as `n` grows.\n",
    "\n",
    "**Question**: Complete line 10 such that `your_logn_func` takes time that grows **logarithmically (base 2)** as `n` grows. This is very simple, and you don't need multiple lines of code. Just assign `n` such that the time $t$ is $t = log_2(n)$."
   ]
  },
  {
   "cell_type": "code",
   "execution_count": 1,
   "metadata": {},
   "outputs": [],
   "source": [
    "# PROBLEM 2\n",
    "#------------- IMPLEMENT ON YOUR OWN -------------\n",
    "import time\n",
    "\n",
    "# Logarithmic (Base 2) Time Algorithm\n",
    "def your_logn_func(n):\n",
    "    while n > 1:\n",
    "        #------------- YOUR CODE GOES HERE -------------\n",
    "        n/=2\n",
    "        #-----------------------------------------------\n",
    "        time.sleep(0.1)"
   ]
  },
  {
   "cell_type": "markdown",
   "metadata": {},
   "source": [
    "You can check and see if the measured running time actually has a logarithmic relations to `n`. If everything goes well, 0.1 $\\times$ $log_2(n)$ should be your total running time since your function's complexity entirely depends on the number of iterations times 0.1 sec. In other words, `total running time / log2(n)` should be approximately `0.1` sec."
   ]
  },
  {
   "cell_type": "code",
   "execution_count": 2,
   "metadata": {},
   "outputs": [
    {
     "name": "stdout",
     "output_type": "stream",
     "text": [
      "n:    10 | logn:  0.456638 | each iteration took  0.137462 sec\n",
      "n:    20 | logn:  0.560979 | each iteration took  0.129798 sec\n",
      "n:    40 | logn:  0.660243 | each iteration took  0.124061 sec\n",
      "n:    80 | logn:  0.783798 | each iteration took  0.123981 sec\n",
      "n:   160 | logn:  0.880565 | each iteration took  0.120264 sec\n",
      "n:   320 | logn:  1.014317 | each iteration took  0.121885 sec\n",
      "n:   640 | logn:  1.096944 | each iteration took  0.117673 sec\n",
      "n:  1280 | logn:  1.197398 | each iteration took  0.116005 sec\n",
      "n:  2560 | logn:  1.332308 | each iteration took  0.117675 sec\n",
      "n:  5120 | logn:  1.436333 | each iteration took  0.116567 sec\n",
      "n: 10480 | logn:  1.551435 | each iteration took  0.116166 sec\n",
      "n: 20960 | logn:  1.656745 | each iteration took  0.115410 sec\n",
      "n: 41920 | logn:  1.723215 | each iteration took  0.112222 sec\n",
      "n: 83840 | logn:  1.830370 | each iteration took  0.111913 sec\n"
     ]
    }
   ],
   "source": [
    "import math\n",
    "for n in [10, 20, 40, 80, 160, 320, 640, 1280, 2560, 5120, 10480, 20960, 41920, 83840]:\n",
    "    # for the sake of analysis, intentionally create a list of distinct elements\n",
    "    # this ensures the worst-case where the entire list is considered\n",
    "    \n",
    "    start_time = time.time()\n",
    "    your_logn_func(n)\n",
    "    end_time = time.time()\n",
    "    logn_running_time = end_time - start_time\n",
    "    \n",
    "    print(\"n: %s | \" % f\"{n:5d}\", end=\"\")\n",
    "    print(\"logn: %s | \" % f\"{logn_running_time:9.6f}\", end=\"\")\n",
    "    print(\"each iteration took %s sec\" % f\"{logn_running_time / math.log2(n):9.6f}\")"
   ]
  },
  {
   "cell_type": "markdown",
   "metadata": {},
   "source": [
    "***\n",
    "## <font color='red'>***Problem 3: Implement Your Own Cubic Time Function***</font>\n",
    "This is very similar to Problem 2. This time, modify the function below such that the running time grows cubically (i.e., $O(n^3)$).\n",
    "\n",
    "**Question**: Complete the remaining code block in `your_cubic_func` such that the running time is $O(n^3)$. Since the running time grows very very fast as `n` grows, use the provided `time.sleep(0.0001)` to simulate a very quick iteration."
   ]
  },
  {
   "cell_type": "code",
   "execution_count": 1,
   "metadata": {},
   "outputs": [],
   "source": [
    "# PROBLEM 3\n",
    "#------------- IMPLEMENT ON YOUR OWN -------------\n",
    "import time\n",
    "\n",
    "# Cubic (n^3) Time Algorithm\n",
    "def your_cubic_func(n):\n",
    "    total = 0\n",
    "    for i in range(n):\n",
    "        #------------- YOUR CODE GOES HERE -------------\n",
    "        for j in range(n):\n",
    "            for k in range(n):\n",
    "                total = i + j+ k   \n",
    "                time.sleep(0.0001)\n",
    "    return total     \n",
    "        #-----------------------------------------------"
   ]
  },
  {
   "cell_type": "markdown",
   "metadata": {},
   "source": [
    "Test using the below cell. I suggest not trying larger `n` since as `n` doubles, the running time will increase by $\\times 8$."
   ]
  },
  {
   "cell_type": "code",
   "execution_count": 2,
   "metadata": {},
   "outputs": [
    {
     "name": "stdout",
     "output_type": "stream",
     "text": [
      "n:     2 | cubic:  0.106671 | each iteration took  0.013334 sec\n",
      "n:     4 | cubic:  1.043900 | each iteration took  0.016311 sec\n",
      "n:     8 | cubic:  8.189129 | each iteration took  0.015994 sec\n",
      "n:    16 | cubic: 63.183764 | each iteration took  0.015426 sec\n",
      "n:    32 | cubic: 516.319680 | each iteration took  0.015757 sec\n"
     ]
    }
   ],
   "source": [
    "import math\n",
    "for n in [2, 4, 8, 16, 32]:\n",
    "    # for the sake of analysis, intentionally create a list of distinct elements\n",
    "    # this ensures the worst-case where the entire list is considered\n",
    "    \n",
    "    start_time = time.time()\n",
    "    your_cubic_func(n)\n",
    "    end_time = time.time()\n",
    "    cubic_running_time = end_time - start_time\n",
    "    \n",
    "    print(\"n: %s | \" % f\"{n:5d}\", end=\"\")\n",
    "    print(\"cubic: %s | \" % f\"{cubic_running_time:9.6f}\", end=\"\")\n",
    "    print(\"each iteration took %s sec\" % f\"{cubic_running_time / n**3:9.6f}\")"
   ]
  },
  {
   "cell_type": "markdown",
   "metadata": {},
   "source": [
    "***\n",
    "## <font color='royalblue'>6. Finish</font>\n",
    "\n",
    "### **What to Submit** (repeat from Section 1):\n",
    "1. `assignment1.ipynb`: Your `assignment1.ipynb` which has (1) your name and YID at the top, (2) your solutions to the problems, and (3) the output of runnning your file. Once you run the entire file, which shows all your outputs as well, save and submit. This saves the output as well, and once I open your `assignment1.ipynb`, I will see those exact same outputs that you had when you saved your `assignment1.ipynb`.\n",
    "2. `assignment1.html`: `File->Save and Export Notebook As -> HTML` to generate your own `assignment1.html` of the above `assignment1.ipynb` (which you submit with solutions and outputs). This serves as a \"hard copy\" to show your output as a html. Again, if you could not run the entire `assignment1.ipynb` due to incomplete codes and problems, just run all the cells that you can and submit. For example, if you only complete Problem 2 and 3, just run the cells in Problem 2 and 3 and submit. These problems can be run separately."
   ]
  }
 ],
 "metadata": {
  "kernelspec": {
   "display_name": "Python 3 (ipykernel)",
   "language": "python",
   "name": "python3"
  },
  "language_info": {
   "codemirror_mode": {
    "name": "ipython",
    "version": 3
   },
   "file_extension": ".py",
   "mimetype": "text/x-python",
   "name": "python",
   "nbconvert_exporter": "python",
   "pygments_lexer": "ipython3",
   "version": "3.9.7"
  },
  "toc-autonumbering": false,
  "toc-showcode": false,
  "toc-showmarkdowntxt": false,
  "toc-showtags": false
 },
 "nbformat": 4,
 "nbformat_minor": 4
}
